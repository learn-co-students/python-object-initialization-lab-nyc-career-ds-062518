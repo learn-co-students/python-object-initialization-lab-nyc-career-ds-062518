{
 "cells": [
  {
   "cell_type": "markdown",
   "metadata": {},
   "source": [
    "# Python Object Initialization Lab"
   ]
  },
  {
   "cell_type": "markdown",
   "metadata": {},
   "source": [
    "## Introduction\n",
    "In this lab, we will practice defining classes with custom `__init__` methods. We will define two classes, Driver and Passenger in the driver.py and passenger.py files, respectively."
   ]
  },
  {
   "cell_type": "markdown",
   "metadata": {},
   "source": [
    "## Objectives\n",
    "\n",
    "* Define custom `__init__` methods for object initialization\n",
    "* Create instance variables in the `__init__` method \n",
    "* Use default arguments in the `__init__` method"
   ]
  },
  {
   "cell_type": "markdown",
   "metadata": {},
   "source": [
    "## Initializing Instance Objects"
   ]
  },
  {
   "cell_type": "markdown",
   "metadata": {},
   "source": [
    "> **Remember:** load the autoreload extension to make sure that our code is re-imported"
   ]
  },
  {
   "cell_type": "code",
   "execution_count": 11,
   "metadata": {},
   "outputs": [
    {
     "ename": "SyntaxError",
     "evalue": "invalid syntax (<ipython-input-11-606efc0879be>, line 1)",
     "output_type": "error",
     "traceback": [
      "\u001b[0;36m  File \u001b[0;32m\"<ipython-input-11-606efc0879be>\"\u001b[0;36m, line \u001b[0;32m1\u001b[0m\n\u001b[0;31m    load_ext autoreload\u001b[0m\n\u001b[0m                      ^\u001b[0m\n\u001b[0;31mSyntaxError\u001b[0m\u001b[0;31m:\u001b[0m invalid syntax\n"
     ]
    }
   ],
   "source": [
    "#%load_ext autoreload\n",
    "#%autoreload 2"
   ]
  },
  {
   "cell_type": "markdown",
   "metadata": {},
   "source": [
    "Start off by defining Driver and Passenger classes. In the Passenger class, we will want our passengers to have a `first` name, `last` name, `email`, and `rides_taken` attributes. Let's provide our `__init__` method's `rides_taken` attribute with the default argument of '0' since new passengers should not have taken any rides. \n",
    "\n",
    "After we've defined our Passenger `__init__` method, check it out by initializing a new passenger with the first name \"Rebecca\", the last name \"Black\", and the email \"rebecca.black@gmail.com\". Don't worry about creating instance methods or using any attribute decorators in this lesson. We can just instantiate instance variables and use those to access the instance's attributes."
   ]
  },
  {
   "cell_type": "code",
   "execution_count": 7,
   "metadata": {},
   "outputs": [],
   "source": [
    "from passenger import Passenger"
   ]
  },
  {
   "cell_type": "code",
   "execution_count": 8,
   "metadata": {},
   "outputs": [
    {
     "name": "stdout",
     "output_type": "stream",
     "text": [
      "Rebecca\n",
      "Black\n",
      "rebecca.black@gmail.com\n",
      "0\n"
     ]
    }
   ],
   "source": [
    "rebecca_black = Passenger(\"Rebecca\", \"Black\",\"rebecca.black@gmail.com\", 0)# initialize Rebecca Black here\n",
    "\n",
    "print(rebecca_black.first) # \"Rebecca\"\n",
    "print(rebecca_black.last) # \"Black\"\n",
    "print(rebecca_black.email) # \"rebecca.black@gmail.com\"\n",
    "print(rebecca_black.rides_taken) # 0"
   ]
  },
  {
   "cell_type": "markdown",
   "metadata": {},
   "source": [
    "![rebecca black in a car](https://media.giphy.com/media/8SS0MSoBHa8la/giphy.gif)"
   ]
  },
  {
   "cell_type": "markdown",
   "metadata": {},
   "source": [
    "Great work! Rebecca Black is now in the system and ready to request her ride to the party on Friday! Friday! Friday!"
   ]
  },
  {
   "cell_type": "code",
   "execution_count": 9,
   "metadata": {},
   "outputs": [],
   "source": [
    "from driver import Driver"
   ]
  },
  {
   "cell_type": "code",
   "execution_count": 10,
   "metadata": {
    "scrolled": true
   },
   "outputs": [
    {
     "name": "stdout",
     "output_type": "stream",
     "text": [
      "Dale\n",
      "Earnhardt\n",
      "driving\n"
     ]
    }
   ],
   "source": [
    "dale_earnhardt = Driver(\"Dale\",\"Earnhardt\", \"driving\") # initialize Dale Earnhardt here\n",
    "print(dale_earnhardt.first) # \"Dale\"\n",
    "print(dale_earnhardt.last) # \"Earnhardt\"\n",
    "print(dale_earnhardt.favorite_hobby) # \"driving\""
   ]
  },
  {
   "cell_type": "markdown",
   "metadata": {},
   "source": [
    "![DaleEarnhardt](https://media.giphy.com/media/3ohzdSGBkwbvuPdO3S/giphy.gif)"
   ]
  },
  {
   "cell_type": "markdown",
   "metadata": {},
   "source": [
    "Awesome, maybe Dale will be Rebecca's driver to the party on Friday! Friday! Friday! "
   ]
  },
  {
   "cell_type": "markdown",
   "metadata": {},
   "source": [
    "## Summary\n"
   ]
  },
  {
   "cell_type": "markdown",
   "metadata": {},
   "source": [
    "In this lab, we practiced definining custom `__init__` methods that allowed us to initialize new instances with a set of predetermined attributes and default attributes."
   ]
  }
 ],
 "metadata": {
  "kernelspec": {
   "display_name": "Python 3",
   "language": "python",
   "name": "python3"
  },
  "language_info": {
   "codemirror_mode": {
    "name": "ipython",
    "version": 3
   },
   "file_extension": ".py",
   "mimetype": "text/x-python",
   "name": "python",
   "nbconvert_exporter": "python",
   "pygments_lexer": "ipython3",
   "version": "3.6.5"
  }
 },
 "nbformat": 4,
 "nbformat_minor": 2
}
